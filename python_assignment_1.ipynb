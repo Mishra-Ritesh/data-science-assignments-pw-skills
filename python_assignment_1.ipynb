{
 "cells": [
  {
   "cell_type": "code",
   "execution_count": 2,
   "id": "51993868-be22-4634-a4d6-96fe04d8b48d",
   "metadata": {},
   "outputs": [],
   "source": [
    "#ASSIGNMENT 1\n",
    "#Ritesh Mishra\n",
    "#riteshofficial101@gmail.com"
   ]
  },
  {
   "cell_type": "code",
   "execution_count": 3,
   "id": "57cc5a29-ee09-40d8-8d8f-368456033c1d",
   "metadata": {},
   "outputs": [],
   "source": [
    "# Q1. Explain with an example each when to use a for loop and a while loop.\n",
    "\n",
    "# For loop should be generally used when, the number of iterations are known.\n",
    "# While loop should be generally be used when the numbe rof iterations are not known, here we just know the condition\n",
    "# that when we want to stop the loop\n",
    "\n",
    "# example"
   ]
  },
  {
   "cell_type": "code",
   "execution_count": 4,
   "id": "39777c43-b7c4-46b6-9818-1d2062a9415f",
   "metadata": {},
   "outputs": [
    {
     "name": "stdout",
     "output_type": "stream",
     "text": [
      "1\n",
      "2\n",
      "3\n",
      "4\n",
      "5\n",
      "6\n",
      "7\n",
      "8\n",
      "9\n"
     ]
    }
   ],
   "source": [
    "# for loop\n",
    "# we want to print all the element from the list by using for loop\n",
    "\n",
    "l1= [1,2,3,4,5,6,7,8,9]\n",
    "\n",
    "for i in l1:\n",
    "    print(i)\n",
    "\n"
   ]
  },
  {
   "cell_type": "code",
   "execution_count": 6,
   "id": "108c721d-824b-49dd-872b-89005041ab72",
   "metadata": {},
   "outputs": [
    {
     "name": "stdout",
     "output_type": "stream",
     "text": [
      "1\n",
      "2\n",
      "3\n",
      "4\n",
      "5\n",
      "6\n",
      "7\n"
     ]
    }
   ],
   "source": [
    "# while loop\n",
    "# here we ant to print i as long as it is less than 8\n",
    "\n",
    "i= 1;\n",
    "while i< 8:\n",
    "    print(i)\n",
    "    i+=1\n"
   ]
  },
  {
   "cell_type": "code",
   "execution_count": null,
   "id": "cd263deb-fc7a-4690-90b5-92b515438b9c",
   "metadata": {},
   "outputs": [],
   "source": []
  },
  {
   "cell_type": "code",
   "execution_count": 7,
   "id": "78e11702-2ec8-45a0-a92d-27c75b64397a",
   "metadata": {},
   "outputs": [],
   "source": [
    "# Q2. Write a python program to print the sum and product of the first 10 natural numbers using for\n",
    "# and while loop.\n",
    "\n",
    "# using for loop"
   ]
  },
  {
   "cell_type": "code",
   "execution_count": 1,
   "id": "f8d29a59-cb16-45f0-a2df-5674381d4a86",
   "metadata": {},
   "outputs": [
    {
     "name": "stdout",
     "output_type": "stream",
     "text": [
      "sum is:  55  and product is:  3628800\n"
     ]
    }
   ],
   "source": [
    "sum = 0\n",
    "product = 1\n",
    "for i in range(1,11):\n",
    "    sum= sum+i\n",
    "    product= product*i\n",
    "    i = i+1\n",
    "\n",
    "print(\"sum is: \",sum,\" and product is: \",product)"
   ]
  },
  {
   "cell_type": "code",
   "execution_count": null,
   "id": "e94055dc-42ef-49c7-a0f2-675c7c6ef559",
   "metadata": {},
   "outputs": [],
   "source": [
    "# using while loop"
   ]
  },
  {
   "cell_type": "code",
   "execution_count": 2,
   "id": "049ca930-1d29-47ce-aafa-87c91eb2597e",
   "metadata": {},
   "outputs": [
    {
     "name": "stdout",
     "output_type": "stream",
     "text": [
      "sum is:  55  and product is:  3628800\n"
     ]
    }
   ],
   "source": [
    "sum=0\n",
    "prod=1\n",
    "i=1\n",
    "while i <11:\n",
    "    sum= sum+i\n",
    "    prod= prod*i\n",
    "    i+=1\n",
    "\n",
    "print(\"sum is: \",sum,\" and product is: \",prod)\n"
   ]
  },
  {
   "cell_type": "code",
   "execution_count": null,
   "id": "9c8ca0f3-c467-4214-b1cb-0aa9faabed94",
   "metadata": {},
   "outputs": [],
   "source": [
    "# Q3. Create a python program to compute the electricity bill for a household.\n",
    "# The per-unit charges in rupees are as follows: For the first 100 units, the user will be charged Rs. 4.5 per\n",
    "# unit, for the next 100 units, the user will be charged Rs. 6 per unit, and for the next 100 units, the user will\n",
    "# be charged Rs. 10 per unit, After 300 units and above the user will be charged Rs. 20 per unit.\n",
    "# You are required to take the units of electricity consumed in a month from the user as input.\n",
    "\n",
    "#Your program must pass this test case: when the unit of electricity consumed by the user in a month is\n",
    "# 310, the total electricity bill should be 2250."
   ]
  },
  {
   "cell_type": "code",
   "execution_count": 5,
   "id": "bae2e445-4dde-47bc-8cb8-a424e1dcf9d1",
   "metadata": {},
   "outputs": [
    {
     "name": "stdin",
     "output_type": "stream",
     "text": [
      " please enter the number of units consumed in a month 310\n"
     ]
    },
    {
     "name": "stdout",
     "output_type": "stream",
     "text": [
      "the bill for the minth is:  2250.0\n"
     ]
    }
   ],
   "source": [
    "unit = float(input(\" please enter the number of units consumed in a month\"))\n",
    "bill_charge =0\n",
    "if unit<=100:\n",
    "    bill_charge= 4.5*unit\n",
    "elif unit > 100 and unit<=200:\n",
    "    bill_charge= 4.5*100 + 6*(unit-100)\n",
    "elif unit > 200 and unit <=300:\n",
    "    bill_charge= 4.5*100 +6*100 + 10*(unit-200)\n",
    "else:\n",
    "    bill_charge= 4.5*100 +6*100 + 10*100 + 20*(unit-300)\n",
    "    \n",
    "print(\"the bill for the month is: \",bill_charge)\n",
    "\n",
    "             \n",
    "\n"
   ]
  },
  {
   "cell_type": "code",
   "execution_count": null,
   "id": "d2d53e96-f58e-4719-b276-5bc6fe3fd167",
   "metadata": {},
   "outputs": [],
   "source": []
  },
  {
   "cell_type": "code",
   "execution_count": null,
   "id": "e4f5b221-d728-4a9a-afdb-5cab3c2fda4f",
   "metadata": {},
   "outputs": [],
   "source": []
  },
  {
   "cell_type": "code",
   "execution_count": 6,
   "id": "da871c70-9d21-412c-9c06-4e8ba828e861",
   "metadata": {},
   "outputs": [],
   "source": [
    "# Q4. Create a list of numbers from 1 to 100. Use for loop and while loop to calculate the cube of each\n",
    "# number and if the cube of that number is divisible by 4 or 5 then append that number in a list and print\n",
    "# that list."
   ]
  },
  {
   "cell_type": "code",
   "execution_count": 2,
   "id": "d43e84d1-2412-4087-b710-6a418b8a45cb",
   "metadata": {},
   "outputs": [],
   "source": [
    "l1= list(range(1,101))\n"
   ]
  },
  {
   "cell_type": "code",
   "execution_count": 3,
   "id": "a7ff54ba-b8b5-444a-b34a-62abcd2f02fc",
   "metadata": {},
   "outputs": [],
   "source": [
    "l2=[]"
   ]
  },
  {
   "cell_type": "code",
   "execution_count": 4,
   "id": "0ffd5b95-8792-4a32-9f19-2ba6ae79a561",
   "metadata": {},
   "outputs": [
    {
     "data": {
      "text/plain": [
       "[8,\n",
       " 64,\n",
       " 125,\n",
       " 216,\n",
       " 512,\n",
       " 1000,\n",
       " 1728,\n",
       " 2744,\n",
       " 3375,\n",
       " 4096,\n",
       " 5832,\n",
       " 8000,\n",
       " 10648,\n",
       " 13824,\n",
       " 15625,\n",
       " 17576,\n",
       " 21952,\n",
       " 27000,\n",
       " 32768,\n",
       " 39304,\n",
       " 42875,\n",
       " 46656,\n",
       " 54872,\n",
       " 64000,\n",
       " 74088,\n",
       " 85184,\n",
       " 91125,\n",
       " 97336,\n",
       " 110592,\n",
       " 125000,\n",
       " 140608,\n",
       " 157464,\n",
       " 166375,\n",
       " 175616,\n",
       " 195112,\n",
       " 216000,\n",
       " 238328,\n",
       " 262144,\n",
       " 274625,\n",
       " 287496,\n",
       " 314432,\n",
       " 343000,\n",
       " 373248,\n",
       " 405224,\n",
       " 421875,\n",
       " 438976,\n",
       " 474552,\n",
       " 512000,\n",
       " 551368,\n",
       " 592704,\n",
       " 614125,\n",
       " 636056,\n",
       " 681472,\n",
       " 729000,\n",
       " 778688,\n",
       " 830584,\n",
       " 857375,\n",
       " 884736,\n",
       " 941192,\n",
       " 1000000]"
      ]
     },
     "execution_count": 4,
     "metadata": {},
     "output_type": "execute_result"
    }
   ],
   "source": [
    "for i in range(0,100):\n",
    " \n",
    "    cube= l1[i]**3\n",
    " \n",
    "    if (cube%4 == 0.0 or cube%5==0.0):\n",
    "        l2.append(cube)\n",
    "l2   \n",
    "            "
   ]
  },
  {
   "cell_type": "code",
   "execution_count": null,
   "id": "4232331b-df05-4776-9138-b165a24705bf",
   "metadata": {},
   "outputs": [],
   "source": [
    "\n",
    "\n"
   ]
  },
  {
   "cell_type": "code",
   "execution_count": null,
   "id": "1a47d3d8-ed78-49ab-9605-6387283f475c",
   "metadata": {},
   "outputs": [],
   "source": [
    "# Q5. Write a program to filter count vowels in the below-given string.\n",
    "# string = \"I want to become a data scientist\"\n",
    "\n"
   ]
  },
  {
   "cell_type": "code",
   "execution_count": 10,
   "id": "5b2968c7-767b-42b4-8c22-59078edd6063",
   "metadata": {},
   "outputs": [
    {
     "name": "stdout",
     "output_type": "stream",
     "text": [
      "12\n"
     ]
    }
   ],
   "source": [
    "string = \"I want to become a data scientist\"\n",
    "count =0;\n",
    "for i in range(len(string)):\n",
    "    if( string[i] == 'a' or string[i]== 'A' or string[i] == 'e' or string[i]== 'E' or string[i] == 'i' or string[i]== 'I' or\n",
    "       string[i] == 'o' or string[i]== 'O' or string[i] == 'u' or string[i]== 'U' ):\n",
    "        count+=1\n",
    "print(count)"
   ]
  },
  {
   "cell_type": "code",
   "execution_count": null,
   "id": "842b957d-fccf-4517-b15b-a70eaed5819e",
   "metadata": {},
   "outputs": [],
   "source": [
    "\n"
   ]
  },
  {
   "cell_type": "code",
   "execution_count": null,
   "id": "fe43b25f-ddcd-4e84-88c3-d1bbb4e9488d",
   "metadata": {},
   "outputs": [],
   "source": []
  },
  {
   "cell_type": "code",
   "execution_count": null,
   "id": "96f525a7-25bf-4b85-9e7f-78038cd0b233",
   "metadata": {},
   "outputs": [],
   "source": []
  }
 ],
 "metadata": {
  "kernelspec": {
   "display_name": "Python 3 (ipykernel)",
   "language": "python",
   "name": "python3"
  },
  "language_info": {
   "codemirror_mode": {
    "name": "ipython",
    "version": 3
   },
   "file_extension": ".py",
   "mimetype": "text/x-python",
   "name": "python",
   "nbconvert_exporter": "python",
   "pygments_lexer": "ipython3",
   "version": "3.10.8"
  }
 },
 "nbformat": 4,
 "nbformat_minor": 5
}
